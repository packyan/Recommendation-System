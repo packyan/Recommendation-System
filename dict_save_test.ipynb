{
 "cells": [
  {
   "cell_type": "code",
   "execution_count": 53,
   "metadata": {},
   "outputs": [
    {
     "data": {
      "text/plain": [
       "[(3, 25), (4, 20), (5, 17), (2, 10)]"
      ]
     },
     "execution_count": 53,
     "metadata": {},
     "output_type": "execute_result"
    }
   ],
   "source": [
    "w={1:{2:10, 3:25, 4:20, 5:17}}\n",
    "\n",
    "from operator import itemgetter\n",
    "#sorted(list1, key=itemgetter(1),reverse=True)\n",
    "sorted(w[1].items(), key = lambda s: s[1],reverse=True)"
   ]
  },
  {
   "cell_type": "code",
   "execution_count": 54,
   "metadata": {},
   "outputs": [
    {
     "name": "stdout",
     "output_type": "stream",
     "text": [
      "<class 'list'>\n"
     ]
    },
    {
     "data": {
      "text/plain": [
       "[('88', 37), ('2123', 25), ('22', 17)]"
      ]
     },
     "execution_count": 54,
     "metadata": {},
     "output_type": "execute_result"
    }
   ],
   "source": [
    "w={1:{2:10, 3:25, 4:20, 5:17}}\n",
    "train_set = {1:['xx','bb','zz'],\\\n",
    "               2:['22','32','zz'],\\\n",
    "               3:['xx','2123'],\\\n",
    "               4:['88','zz'],\\\n",
    "               5:['88','22']}\n",
    "\n",
    "print(type(train_set[1]))\n",
    "def Recommend(user, train_set, W, k = 3):\n",
    "    already_view_items = train_set[user] \n",
    "    rank = dict()\n",
    "    for user_j, weight_user_ij in sorted(W[user].items(), key = lambda w_user_j: w_user_j[1],reverse=True)[:k]:\n",
    "        for items in train_set[user_j]:\n",
    "            if items in already_view_items:\n",
    "                continue;\n",
    "            else:\n",
    "                rank.setdefault(items, 0)\n",
    "                rank[items] += weight_user_ij\n",
    "    return sorted(rank.items(), key = lambda w:w[1], reverse = True)\n",
    "    \n",
    "Recommend(1,train_set, w )    "
   ]
  },
  {
   "cell_type": "code",
   "execution_count": 52,
   "metadata": {},
   "outputs": [],
   "source": [
    "def save_dict2json(file_name, dic): \n",
    "    import json\n",
    "    with open(file_name+'.json','a') as outfile:\n",
    "        json.dump(dic,outfile,ensure_ascii=False)\n",
    "        outfile.write('\\n')\n",
    "\n",
    "def read_json2dict(file_path):\n",
    "    import json\n",
    "    data = []\n",
    "    with  open(file_path, 'r') as f:\n",
    "        for line in f:\n",
    "            data.append(json.loads(line))\n",
    "    f.close()\n",
    "    if len(data) ==  1:\n",
    "        return data[0]\n",
    "    else:\n",
    "        return data"
   ]
  },
  {
   "cell_type": "code",
   "execution_count": 55,
   "metadata": {},
   "outputs": [],
   "source": [
    "save_dict2json('dict', train_set)"
   ]
  },
  {
   "cell_type": "code",
   "execution_count": 56,
   "metadata": {},
   "outputs": [],
   "source": [
    "dic=read_json2dict('dict.json')"
   ]
  },
  {
   "cell_type": "code",
   "execution_count": 61,
   "metadata": {},
   "outputs": [
    {
     "data": {
      "text/plain": [
       "{'1': ['xx', 'bb', 'zz'],\n",
       " '2': ['22', '32', 'zz'],\n",
       " '3': ['xx', '2123'],\n",
       " '4': ['88', 'zz'],\n",
       " '5': ['88', '22']}"
      ]
     },
     "execution_count": 61,
     "metadata": {},
     "output_type": "execute_result"
    }
   ],
   "source": [
    "dic"
   ]
  },
  {
   "cell_type": "markdown",
   "metadata": {},
   "source": [
    "和UserCF算法类似，用ItemCF算法计算物品相似度时也可以首先建立用户—物品倒排表（即\n",
    "对每个用户建立一个包含他喜欢的物品的列表），然后对于每个用户，将他物品列表中的物品两\n",
    "两在共现矩阵C中加1"
   ]
  },
  {
   "cell_type": "code",
   "execution_count": 84,
   "metadata": {},
   "outputs": [
    {
     "name": "stdout",
     "output_type": "stream",
     "text": [
      "{'xx': {'bb': 1.0, 'zz': 0.5773502691896258}, 'bb': {'xx': 1.0, 'zz': 0.5773502691896258}, 'zz': {'xx': 0.5773502691896258, 'bb': 0.5773502691896258, '22': 0.4082482904638631, '32': 0.5773502691896258, '2123': 0.4082482904638631, '88': 0.4082482904638631}, '22': {'32': 0.7071067811865475, 'zz': 0.4082482904638631, '2123': 0.5, '88': 0.5}, '32': {'22': 0.7071067811865475, 'zz': 0.5773502691896258, '2123': 0.7071067811865475}, '2123': {'22': 0.5, '32': 0.7071067811865475, 'zz': 0.4082482904638631, '6666': 0.7071067811865475}, '6666': {'2123': 0.7071067811865475}, '88': {'zz': 0.4082482904638631, '22': 0.5}}\n"
     ]
    },
    {
     "data": {
      "text/plain": [
       "{'88': 0.5,\n",
       " 'xx': 0.5773502691896258,\n",
       " 'bb': 0.5773502691896258,\n",
       " '6666': 0.7071067811865475}"
      ]
     },
     "execution_count": 84,
     "metadata": {},
     "output_type": "execute_result"
    }
   ],
   "source": [
    "train_set = {1:['xx','bb','zz'],\\\n",
    "               2:['22','32','zz','2123'],\\\n",
    "               3:['6666','2123'],\\\n",
    "               4:['88','zz'],\\\n",
    "               5:['88','22']}\n",
    "#同一个用户，都访问过哪些item，\n",
    "import math\n",
    "def ItemSimilarity(train_set):\n",
    "    item_sim_matrix = dict()\n",
    "    N = dict()\n",
    "    for user, items in train_set.items():\n",
    "        for item_i in items:\n",
    "            N.setdefault(item_i, 0)\n",
    "            N[item_i] += 1\n",
    "            for item_j in items:\n",
    "                if(item_i == item_j):\n",
    "                    continue\n",
    "                item_sim_matrix.setdefault(item_i, {})\n",
    "                item_sim_matrix[item_i].setdefault(item_j, 0)\n",
    "                item_sim_matrix[item_i][item_j] += 1\n",
    "                \n",
    "    for item, related_items in item_sim_matrix.items():\n",
    "        for item_j, cuv in related_items.items():\n",
    "            item_sim_matrix[item][item_j] = cuv/math.sqrt((N[item] * (N[item_j])))                                                                  \n",
    "    return item_sim_matrix  \n",
    "            \n",
    "W = ItemSimilarity(train_set)\n",
    "print(W)\n",
    "#还可以做归一化\n",
    "def Recommendation(train, user_id, W, K):\n",
    "    rank = dict()\n",
    "    ru = train[user_id]\n",
    "    for i,pi in ru.items():\n",
    "        for j, wj in sorted(W[i].items(),\\\n",
    "            key=itemgetter(1), reverse=True)[0:K]:\n",
    "            if j in ru:\n",
    "                continue\n",
    "            rank[j].weight += pi * wj\n",
    "            rank[j].reason[i] = pi * wj\n",
    "    return rank\n",
    "\n",
    "def Recommendation2(train, user_id, W, K):\n",
    "    rank = dict()\n",
    "    ru = train[user_id]\n",
    "    for i in ru:\n",
    "        for j, wj in sorted(W[i].items(),\\\n",
    "            key=itemgetter(1), reverse=True)[0:K]:\n",
    "            if j in ru:\n",
    "                continue\n",
    "            rank.setdefault(j, 0.0)\n",
    "            rank[j] += 1.0 * wj\n",
    "\n",
    "    return rank \n",
    "\n",
    "Recommendation2(train_set, 2, W, K=4)"
   ]
  },
  {
   "cell_type": "code",
   "execution_count": null,
   "metadata": {},
   "outputs": [],
   "source": []
  }
 ],
 "metadata": {
  "kernelspec": {
   "display_name": "Python 3",
   "language": "python",
   "name": "python3"
  },
  "language_info": {
   "codemirror_mode": {
    "name": "ipython",
    "version": 3
   },
   "file_extension": ".py",
   "mimetype": "text/x-python",
   "name": "python",
   "nbconvert_exporter": "python",
   "pygments_lexer": "ipython3",
   "version": "3.6.8"
  }
 },
 "nbformat": 4,
 "nbformat_minor": 2
}
