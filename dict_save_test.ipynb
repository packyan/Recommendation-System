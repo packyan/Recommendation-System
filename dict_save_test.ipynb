{
 "cells": [
  {
   "cell_type": "code",
   "execution_count": 53,
   "metadata": {},
   "outputs": [
    {
     "data": {
      "text/plain": [
       "[(3, 25), (4, 20), (5, 17), (2, 10)]"
      ]
     },
     "execution_count": 53,
     "metadata": {},
     "output_type": "execute_result"
    }
   ],
   "source": [
    "w={1:{2:10, 3:25, 4:20, 5:17}}\n",
    "\n",
    "from operator import itemgetter\n",
    "#sorted(list1, key=itemgetter(1),reverse=True)\n",
    "sorted(w[1].items(), key = lambda s: s[1],reverse=True)"
   ]
  },
  {
   "cell_type": "code",
   "execution_count": 54,
   "metadata": {},
   "outputs": [
    {
     "name": "stdout",
     "output_type": "stream",
     "text": [
      "<class 'list'>\n"
     ]
    },
    {
     "data": {
      "text/plain": [
       "[('88', 37), ('2123', 25), ('22', 17)]"
      ]
     },
     "execution_count": 54,
     "metadata": {},
     "output_type": "execute_result"
    }
   ],
   "source": [
    "w={1:{2:10, 3:25, 4:20, 5:17}}\n",
    "train_set = {1:['xx','bb','zz'],\\\n",
    "               2:['22','32','zz'],\\\n",
    "               3:['xx','2123'],\\\n",
    "               4:['88','zz'],\\\n",
    "               5:['88','22']}\n",
    "\n",
    "print(type(train_set[1]))\n",
    "def Recommend(user, train_set, W, k = 3):\n",
    "    already_view_items = train_set[user] \n",
    "    rank = dict()\n",
    "    for user_j, weight_user_ij in sorted(W[user].items(), key = lambda w_user_j: w_user_j[1],reverse=True)[:k]:\n",
    "        for items in train_set[user_j]:\n",
    "            if items in already_view_items:\n",
    "                continue;\n",
    "            else:\n",
    "                rank.setdefault(items, 0)\n",
    "                rank[items] += weight_user_ij\n",
    "    return sorted(rank.items(), key = lambda w:w[1], reverse = True)\n",
    "    \n",
    "Recommend(1,train_set, w )    "
   ]
  },
  {
   "cell_type": "code",
   "execution_count": 52,
   "metadata": {},
   "outputs": [],
   "source": [
    "def save_dict2json(file_name, dic): \n",
    "    import json\n",
    "    with open(file_name+'.json','a') as outfile:\n",
    "        json.dump(dic,outfile,ensure_ascii=False)\n",
    "        outfile.write('\\n')\n",
    "\n",
    "def read_json2dict(file_path):\n",
    "    import json\n",
    "    data = []\n",
    "    with  open(file_path, 'r') as f:\n",
    "        for line in f:\n",
    "            data.append(json.loads(line))\n",
    "    f.close()\n",
    "    if len(data) ==  1:\n",
    "        return data[0]\n",
    "    else:\n",
    "        return data"
   ]
  },
  {
   "cell_type": "code",
   "execution_count": 55,
   "metadata": {},
   "outputs": [],
   "source": [
    "save_dict2json('dict', train_set)"
   ]
  },
  {
   "cell_type": "code",
   "execution_count": 56,
   "metadata": {},
   "outputs": [],
   "source": [
    "dic=read_json2dict('dict.json')"
   ]
  },
  {
   "cell_type": "code",
   "execution_count": 61,
   "metadata": {},
   "outputs": [
    {
     "data": {
      "text/plain": [
       "{'1': ['xx', 'bb', 'zz'],\n",
       " '2': ['22', '32', 'zz'],\n",
       " '3': ['xx', '2123'],\n",
       " '4': ['88', 'zz'],\n",
       " '5': ['88', '22']}"
      ]
     },
     "execution_count": 61,
     "metadata": {},
     "output_type": "execute_result"
    }
   ],
   "source": [
    "dic"
   ]
  },
  {
   "cell_type": "code",
   "execution_count": null,
   "metadata": {},
   "outputs": [],
   "source": []
  }
 ],
 "metadata": {
  "kernelspec": {
   "display_name": "Python 3",
   "language": "python",
   "name": "python3"
  },
  "language_info": {
   "codemirror_mode": {
    "name": "ipython",
    "version": 3
   },
   "file_extension": ".py",
   "mimetype": "text/x-python",
   "name": "python",
   "nbconvert_exporter": "python",
   "pygments_lexer": "ipython3",
   "version": "3.6.8"
  }
 },
 "nbformat": 4,
 "nbformat_minor": 2
}
